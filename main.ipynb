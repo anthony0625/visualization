{
  "nbformat": 4,
  "nbformat_minor": 0,
  "metadata": {
    "colab": {
      "provenance": [],
      "authorship_tag": "ABX9TyNpcM4FZdY5rRMViciYGqQE"
    },
    "kernelspec": {
      "name": "python3",
      "display_name": "Python 3"
    },
    "language_info": {
      "name": "python"
    }
  },
  "cells": [
    {
      "cell_type": "code",
      "execution_count": 5,
      "metadata": {
        "id": "P_Gq-1v2XDM1"
      },
      "outputs": [],
      "source": [
        "import numpy as np\n",
        "import matplotlib.pyplot as plt\n",
        "\n",
        "class visualize:\n",
        "    def __init__(self, data, shape, type, normalization=1, inversion=False):\n",
        "        self.data = self.normalize(data, normalization)\n",
        "        if type==\"heatmap\": self.genHeatmap(self.data, shape)\n",
        "    \n",
        "    def genHeatmap(self, data, shape):\n",
        "        plt.subplots(shape[0], shape[1])\n",
        "        for column in range(shape[0]):\n",
        "            for row in range(shape[1]):\n",
        "                plt.subplot.imshow(self.data)\n",
        "\n",
        "    def normalize(self, data, normalization, inversion):\n",
        "        if inversion: max = np.amax(np.absolute(data))\n",
        "        else: max = np.amax(data)\n",
        "        return data / max"
      ]
    },
    {
      "cell_type": "code",
      "source": [
        "test = visualize()"
      ],
      "metadata": {
        "id": "EpXanrXlssc4"
      },
      "execution_count": null,
      "outputs": []
    }
  ]
}